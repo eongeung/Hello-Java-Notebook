{
 "cells": [
  {
   "cell_type": "markdown",
   "id": "e17b3d33-2cfd-4e16-9c1f-0307ba974071",
   "metadata": {},
   "source": [
    "## Hello Java Notebook\n",
    "\n",
    "- **이름** : 이영흔<br>\n",
    "- **학번** : 20222104<br>\n",
    "- **Github Profile**: https://github.com/eongeung"
   ]
  },
  {
   "cell_type": "code",
   "execution_count": 2,
   "id": "e612bbf0-85fc-42c9-84b6-dbc990c1d0ad",
   "metadata": {},
   "outputs": [
    {
     "name": "stdout",
     "output_type": "stream",
     "text": [
      "eongeung\n"
     ]
    }
   ],
   "source": [
    "%%bash\n",
    "echo $GITHUB_USER\n"
   ]
  },
  {
   "cell_type": "code",
   "execution_count": 3,
   "id": "c552f124-2079-45c3-82d2-c9d306afb6ee",
   "metadata": {},
   "outputs": [
    {
     "name": "stdout",
     "output_type": "stream",
     "text": [
      "openjdk 22.0.2 2024-07-16\n",
      "OpenJDK Runtime Environment Temurin-22.0.2+9 (build 22.0.2+9)\n",
      "OpenJDK 64-Bit Server VM Temurin-22.0.2+9 (build 22.0.2+9, mixed mode, sharing)\n"
     ]
    }
   ],
   "source": [
    "%%bash\n",
    "java --version"
   ]
  },
  {
   "cell_type": "code",
   "execution_count": 4,
   "id": "4c156e0d-3079-4e56-8f48-a838567424d6",
   "metadata": {},
   "outputs": [
    {
     "data": {
      "text/plain": [
       "22.0.2+9"
      ]
     },
     "execution_count": 4,
     "metadata": {},
     "output_type": "execute_result"
    }
   ],
   "source": [
    "Runtime.version()"
   ]
  },
  {
   "cell_type": "code",
   "execution_count": null,
   "id": "a3e6e95d-6f72-454c-ab90-d17c0400fba2",
   "metadata": {},
   "outputs": [],
   "source": []
  }
 ],
 "metadata": {
  "kernelspec": {
   "display_name": "Java (rjk 2.1.0)",
   "language": "java",
   "name": "rapaio-jupyter-kernel"
  },
  "language_info": {
   "codemirror_mode": "java",
   "file_extension": ".jshell",
   "mimetype": "text/x-java-source",
   "name": "java",
   "nbconvert_exporter": "script",
   "pygments_lexer": "java",
   "version": "22.0.2+9"
  }
 },
 "nbformat": 4,
 "nbformat_minor": 5
}
