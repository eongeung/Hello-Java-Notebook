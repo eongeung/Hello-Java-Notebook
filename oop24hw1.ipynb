{
 "cells": [
  {
   "cell_type": "markdown",
   "id": "49b2bb3f-8a94-4aba-bf67-6b97d86c0047",
   "metadata": {},
   "source": [
    "# OOP (2024 Fall) HW1: 불변 순서쌍을 활용해 가변 순서쌍 만들기 \n",
    "- 이름: 이영흔\n",
    "- 학번: 20222104"
   ]
  },
  {
   "cell_type": "markdown",
   "id": "9c3c24aa-19ac-4c88-a228-0d1686034a24",
   "metadata": {},
   "source": [
    "-----\n",
    "## Part A: 불변 순서쌍 Pair\n",
    "1. 클래스(또는 정적) 팩토리 메소드 `of`를 를 수정하여 완성하라.\n",
    "    - https://velog.io/@cjh8746/%EC%A0%95%EC%A0%81-%ED%8C%A9%ED%86%A0%EB%A6%AC-%EB%A9%94%EC%84%9C%EB%93%9CStatic-Factory-Method\n",
    "1. 주석 부분을 풀어 제너릭 클래스인 `Pair`가 제너릭 인터페이스 `Comparable`를 구현하도록 완성하라.\n",
    "    - https://docs.oracle.com/en/java/javase/22/docs/api/java.base/java/lang/Comparable.html"
   ]
  },
  {
   "cell_type": "code",
   "execution_count": 18,
   "id": "f2b4bcb7-9d9c-494a-9762-ca0700c6f762",
   "metadata": {},
   "outputs": [],
   "source": [
    "record Pair<F extends Comparable<F>, S extends Comparable<S>>(F first, S second) implements Comparable<Pair<F, S>> {\n",
    "    \n",
    "    // 아래 팩토리 메소드 of가 컴파일되지 않고 있으니 컴파일되도록 수정하라 (힌트: 제너릭 메소드)\n",
    "    static <F extends Comparable<F>, S extends Comparable<S>> Pair<F, S> of(F first, S second) {\n",
    "        return new Pair<>(first, second);\n",
    "    }\n",
    "    \n",
    "    // 사전순이 되도록 정의하기. 즉 first가 더 큰 쪽이 더 크고, first가 같으면 second를 비교\n",
    "    public int compareTo(Pair<F, S> other) {\n",
    "        int firstComparison = first.compareTo(other.first);\n",
    "        if (firstComparison != 0) {\n",
    "            return firstComparison;\n",
    "        }\n",
    "        return second.compareTo(other.second);\n",
    "    }\n",
    "}"
   ]
  },
  {
   "cell_type": "code",
   "execution_count": 19,
   "id": "5fb5b2ac-4ac0-40cc-9f87-1675177e4baa",
   "metadata": {},
   "outputs": [
    {
     "name": "stdout",
     "output_type": "stream",
     "text": [
      "1\n",
      "-1\n",
      "-1\n",
      "1\n",
      "0\n",
      "1\n",
      "-25\n",
      "-25\n",
      "1\n",
      "0\n"
     ]
    }
   ],
   "source": [
    "// 1. 첫 번째 Pair: (5, \"cat\"), 두 번째 Pair: (3, \"dog\") -> first 값이 더 큼\n",
    "System.out.println(Pair.of(5, \"cat\").compareTo(Pair.of(3, \"dog\"))); // 양수\n",
    "\n",
    "// 2. 첫 번째 Pair: (2, \"apple\"), 두 번째 Pair: (4, \"banana\") -> first 값이 더 작음\n",
    "System.out.println(Pair.of(2, \"apple\").compareTo(Pair.of(4, \"banana\"))); // 음수\n",
    "\n",
    "// 3. 첫 번째 Pair: (3, \"apple\"), 두 번째 Pair: (3, \"banana\") -> first가 같고 second가 더 작음\n",
    "System.out.println(Pair.of(3, \"apple\").compareTo(Pair.of(3, \"banana\"))); // 음수\n",
    "\n",
    "// 4. 첫 번째 Pair: (3, \"banana\"), 두 번째 Pair: (3, \"apple\") -> first가 같고 second가 더 큼\n",
    "System.out.println(Pair.of(3, \"banana\").compareTo(Pair.of(3, \"apple\"))); // 양수\n",
    "\n",
    "// 5. 첫 번째 Pair: (10, \"apple\"), 두 번째 Pair: (10, \"apple\") -> 완전히 동일\n",
    "System.out.println(Pair.of(10, \"apple\").compareTo(Pair.of(10, \"apple\"))); // 0\n",
    "\n",
    "// 6. 첫 번째 Pair: (7, \"kiwi\"), 두 번째 Pair: (6, \"mango\") -> first 값이 더 큼\n",
    "System.out.println(Pair.of(7, \"kiwi\").compareTo(Pair.of(6, \"mango\"))); // 양수\n",
    "\n",
    "// 7. 첫 번째 Pair: (1, \"apple\"), 두 번째 Pair: (1, \"zebra\") -> first가 같고 second가 더 작음\n",
    "System.out.println(Pair.of(1, \"apple\").compareTo(Pair.of(1, \"zebra\"))); // 음수\n",
    "\n",
    "// 8. 첫 번째 Pair: (8, \"apple\"), 두 번째 Pair: (8, \"zebra\") -> first는 같고 second가 더 큼\n",
    "System.out.println(Pair.of(8, \"apple\").compareTo(Pair.of(8, \"zebra\"))); // 음수\n",
    "\n",
    "// 9. 첫 번째 Pair: (2, \"banana\"), 두 번째 Pair: (2, \"apple\") -> first가 같고 second가 더 큼\n",
    "System.out.println(Pair.of(2, \"banana\").compareTo(Pair.of(2, \"apple\"))); // 양수\n",
    "\n",
    "// 10. 첫 번째 Pair: (6, \"dog\"), 두 번째 Pair: (6, \"dog\") -> 완전히 동일\n",
    "System.out.println(Pair.of(6, \"dog\").compareTo(Pair.of(6, \"dog\"))); // 0\n",
    "\n"
   ]
  },
  {
   "cell_type": "markdown",
   "id": "e2774a64-250e-4e89-a536-5a8ed42bb4ce",
   "metadata": {},
   "source": [
    "------\n",
    "## Part B: 가변 순서쌍 ModifiablePair\n",
    "\n",
    "불변 순서쌍만을 priviate 필드로 갖고 있는 가변 순서쌍 제너릭 클래스를 작성하라\n",
    "\n",
    "가변 순서쌍은 불변 순서쌍과 마찬가지 이름의 getter 메소드가 있고 추가로 setter 메소드도 있다.\n",
    "\n",
    "또, 가변 순서쌍도 불변 순서쌍과 마찬가지로 Comparable 제너릭 인터페이스를 구현하라.\n"
   ]
  },
  {
   "cell_type": "code",
   "execution_count": 20,
   "id": "38eb649f-d95e-40d8-a33b-658df4ee4a7f",
   "metadata": {},
   "outputs": [],
   "source": [
    "class ModifiablePair<F extends Comparable<F>, S extends Comparable<S>> implements Comparable<ModifiablePair<F, S>> {\n",
    "    private Pair<F, S> pair;\n",
    "\n",
    "    ModifiablePair(F first, S second) {\n",
    "        this.pair = Pair.of(first, second);\n",
    "    }\n",
    "\n",
    "    public F first() {\n",
    "        return pair.first();\n",
    "    }\n",
    "\n",
    "    public S second() {\n",
    "        return pair.second();\n",
    "    }\n",
    "\n",
    "    public void setFirst(F first) {\n",
    "        this.pair = Pair.of(first, pair.second());\n",
    "    }\n",
    "\n",
    "    public void setSecond(S second) {\n",
    "        this.pair = Pair.of(pair.first(), second);\n",
    "    }\n",
    "\n",
    "    @Override\n",
    "    public int compareTo(ModifiablePair<F, S> other) {\n",
    "        return this.pair.compareTo(other.pair);\n",
    "    }\n",
    "\n",
    "    @Override\n",
    "    public String toString() {\n",
    "        return pair.toString();\n",
    "    }\n",
    "}\n"
   ]
  },
  {
   "cell_type": "code",
   "execution_count": 21,
   "id": "57af3b33-b9db-43bd-a8e7-5b35d97aaf5e",
   "metadata": {},
   "outputs": [
    {
     "name": "stdout",
     "output_type": "stream",
     "text": [
      "1\n",
      "apple\n",
      "5\n",
      "banana\n",
      "Pair[first=5, second=banana]\n"
     ]
    }
   ],
   "source": [
    "// ModifiablePair 객체 생성 후 테스트 실행\n",
    "ModifiablePair<Integer, String> mp = new ModifiablePair<>(1, \"apple\");\n",
    "\n",
    "// getter 테스트\n",
    "System.out.println(mp.first());    // 예상 출력: 1\n",
    "System.out.println(mp.second());   // 예상 출력: apple\n",
    "\n",
    "// setter 테스트\n",
    "mp.setFirst(5);\n",
    "System.out.println(mp.first());    // 예상 출력: 5\n",
    "\n",
    "mp.setSecond(\"banana\");\n",
    "System.out.println(mp.second());   // 예상 출력: banana\n",
    "\n",
    "// 최종 상태 확인\n",
    "System.out.println(mp);            // 예상 출력: Pair[first=5, second=banana]\n"
   ]
  },
  {
   "cell_type": "code",
   "execution_count": 22,
   "id": "e0b9e66e-d3fa-4485-b6f6-4075eca8fcf3",
   "metadata": {},
   "outputs": [
    {
     "name": "stdout",
     "output_type": "stream",
     "text": [
      "1\n",
      "-1\n",
      "-1\n",
      "1\n",
      "0\n",
      "-1\n",
      "4\n",
      "0\n",
      "1\n",
      "0\n"
     ]
    }
   ],
   "source": [
    "// 1. 첫 번째 Pair: (5, \"apple\"), 두 번째 Pair: (3, \"banana\")\n",
    "// first 값이 더 큰 경우\n",
    "ModifiablePair<Integer, String> mp1 = new ModifiablePair<>(5, \"apple\");\n",
    "ModifiablePair<Integer, String> mp2 = new ModifiablePair<>(3, \"banana\");\n",
    "System.out.println(mp1.compareTo(mp2)); //양수\n",
    "\n",
    "// 2. 첫 번째 Pair: (2, \"apple\"), 두 번째 Pair: (4, \"banana\")\n",
    "// first 값이 더 작은 경우\n",
    "ModifiablePair<Integer, String> mp3 = new ModifiablePair<>(2, \"apple\");\n",
    "ModifiablePair<Integer, String> mp4 = new ModifiablePair<>(4, \"banana\");\n",
    "System.out.println(mp3.compareTo(mp4)); //음수\n",
    "\n",
    "// 3. 첫 번째 Pair: (3, \"apple\"), 두 번째 Pair: (3, \"banana\")\n",
    "// first 값이 같고 second 값이 더 작은 경우\n",
    "ModifiablePair<Integer, String> mp5 = new ModifiablePair<>(3, \"apple\");\n",
    "ModifiablePair<Integer, String> mp6 = new ModifiablePair<>(3, \"banana\");\n",
    "System.out.println(mp5.compareTo(mp6)); //음수\n",
    "\n",
    "// 4. 첫 번째 Pair: (3, \"banana\"), 두 번째 Pair: (3, \"apple\")\n",
    "// first 값이 같고 second 값이 더 큰 경우\n",
    "ModifiablePair<Integer, String> mp7 = new ModifiablePair<>(3, \"banana\");\n",
    "ModifiablePair<Integer, String> mp8 = new ModifiablePair<>(3, \"apple\");\n",
    "System.out.println(mp7.compareTo(mp8)); //양수\n",
    "\n",
    "// 5. 첫 번째 Pair: (2, \"apple\"), 두 번째 Pair: (2, \"apple\")\n",
    "// 완전히 같은 경우\n",
    "ModifiablePair<Integer, String> mp9 = new ModifiablePair<>(2, \"apple\");\n",
    "ModifiablePair<Integer, String> mp10 = new ModifiablePair<>(2, \"apple\");\n",
    "System.out.println(mp9.compareTo(mp10)); //0\n",
    "\n",
    "// 6. 첫 번째 Pair: (1, \"apple\"), 두 번째 Pair: (2, \"banana\")\n",
    "// first 값이 더 작은 경우\n",
    "ModifiablePair<Integer, String> mp11 = new ModifiablePair<>(1, \"apple\");\n",
    "ModifiablePair<Integer, String> mp12 = new ModifiablePair<>(2, \"banana\");\n",
    "System.out.println(mp11.compareTo(mp12)); //음수\n",
    "\n",
    "// 7. 첫 번째 Pair: (5, \"kiwi\"), 두 번째 Pair: (5, \"grape\")\n",
    "// first 값이 같고 second 값이 더 큰 경우\n",
    "ModifiablePair<Integer, String> mp13 = new ModifiablePair<>(5, \"kiwi\");\n",
    "ModifiablePair<Integer, String> mp14 = new ModifiablePair<>(5, \"grape\");\n",
    "System.out.println(mp13.compareTo(mp14)); //양수\n",
    "\n",
    "// 8. 첫 번째 Pair: (6, \"apple\"), 두 번째 Pair: (6, \"apple\")\n",
    "// 완전히 같은 경우\n",
    "ModifiablePair<Integer, String> mp15 = new ModifiablePair<>(6, \"apple\");\n",
    "ModifiablePair<Integer, String> mp16 = new ModifiablePair<>(6, \"apple\");\n",
    "System.out.println(mp15.compareTo(mp16)); // 0\n",
    "\n",
    "// 9. 첫 번째 Pair: (8, \"peach\"), 두 번째 Pair: (7, \"grape\")\n",
    "// first 값이 더 큰 경우\n",
    "ModifiablePair<Integer, String> mp17 = new ModifiablePair<>(8, \"peach\");\n",
    "ModifiablePair<Integer, String> mp18 = new ModifiablePair<>(7, \"grape\");\n",
    "System.out.println(mp17.compareTo(mp18)); // 양수\n",
    "\n",
    "// 10. 첫 번째 Pair: (3, \"kiwi\"), 두 번째 Pair: (3, \"kiwi\")\n",
    "// 완전히 같은 경우\n",
    "ModifiablePair<Integer, String> mp19 = new ModifiablePair<>(3, \"kiwi\");\n",
    "ModifiablePair<Integer, String> mp20 = new ModifiablePair<>(3, \"kiwi\");\n",
    "System.out.println(mp19.compareTo(mp20)); // 0\n"
   ]
  },
  {
   "cell_type": "code",
   "execution_count": null,
   "id": "2113d103-776f-43e7-b742-816b5573884d",
   "metadata": {},
   "outputs": [],
   "source": []
  }
 ],
 "metadata": {
  "kernelspec": {
   "display_name": "Java (rjk 2.1.0)",
   "language": "java",
   "name": "rapaio-jupyter-kernel"
  },
  "language_info": {
   "codemirror_mode": "java",
   "file_extension": ".jshell",
   "mimetype": "text/x-java-source",
   "name": "java",
   "nbconvert_exporter": "script",
   "pygments_lexer": "java",
   "version": "22.0.2+9"
  }
 },
 "nbformat": 4,
 "nbformat_minor": 5
}
